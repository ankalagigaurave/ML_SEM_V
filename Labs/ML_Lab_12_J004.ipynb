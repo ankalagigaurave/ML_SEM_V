{
  "nbformat": 4,
  "nbformat_minor": 0,
  "metadata": {
    "colab": {
      "name": "ML Lab 12 J004",
      "provenance": [],
      "authorship_tag": "ABX9TyPo0uXd+cs8kFR4BROhUyxF",
      "include_colab_link": true
    },
    "kernelspec": {
      "name": "python3",
      "display_name": "Python 3"
    }
  },
  "cells": [
    {
      "cell_type": "markdown",
      "metadata": {
        "id": "view-in-github",
        "colab_type": "text"
      },
      "source": [
        "<a href=\"https://colab.research.google.com/github/ankalagigaurave/ML_SEM_V/blob/master/Labs/ML_Lab_12_J004.ipynb\" target=\"_parent\"><img src=\"https://colab.research.google.com/assets/colab-badge.svg\" alt=\"Open In Colab\"/></a>"
      ]
    },
    {
      "cell_type": "code",
      "metadata": {
        "id": "-rkmFSJ_s0OS"
      },
      "source": [
        "import numpy as np\n",
        "import pandas as pd\n",
        "import matplotlib.pyplot as plt\n",
        "%matplotlib inline\n",
        "import seaborn as sns\n",
        "dfc = pd.read_csv(\"airqual.csv\")\n",
        "dfc.isnull().sum()"
      ],
      "execution_count": null,
      "outputs": []
    },
    {
      "cell_type": "code",
      "metadata": {
        "id": "plgvCzeBtBMq"
      },
      "source": [
        "dfc.info()"
      ],
      "execution_count": null,
      "outputs": []
    },
    {
      "cell_type": "code",
      "metadata": {
        "id": "dwR6SaQgtBJV"
      },
      "source": [
        "dfc.describe()"
      ],
      "execution_count": null,
      "outputs": []
    },
    {
      "cell_type": "code",
      "metadata": {
        "id": "RdD1pWn3tBGo"
      },
      "source": [
        "dfc.shape"
      ],
      "execution_count": null,
      "outputs": []
    },
    {
      "cell_type": "code",
      "metadata": {
        "id": "AFyAXIErtBDw"
      },
      "source": [
        "dfc.replace(to_replace = -200,value = np.NaN , inplace = True )"
      ],
      "execution_count": null,
      "outputs": []
    },
    {
      "cell_type": "code",
      "metadata": {
        "id": "rnllhYkjtBAu"
      },
      "source": [
        "num = dfc.isnull().sum()\n",
        "percent = num/dfc.shape[0]*100\n",
        "percent"
      ],
      "execution_count": null,
      "outputs": []
    },
    {
      "cell_type": "code",
      "metadata": {
        "id": "qqLmtVdotA92"
      },
      "source": [
        "dfc['DateTime'] = dfc['Date']+ ' ' + dfc['Time']\n",
        "dfc.drop(['Time'], axis=1, inplace=True)\n",
        "dfc['DateTime'] = pd.to_datetime(dfc['DateTime'].astype(str), format='%d-%m-%Y %H:%M:%S')\n",
        "dfc['Date'] = pd.to_datetime(dfc['Date'].astype(str), format='%d-%m-%Y')\n",
        "dfc.shape"
      ],
      "execution_count": null,
      "outputs": []
    },
    {
      "cell_type": "code",
      "metadata": {
        "id": "6IPW5WeItA60"
      },
      "source": [
        "dfc.head()"
      ],
      "execution_count": null,
      "outputs": []
    },
    {
      "cell_type": "code",
      "metadata": {
        "id": "aEYtYrr1tA36"
      },
      "source": [
        "num = dfc.isnull().sum()\n",
        "percent = num/dfc.shape[0]*100\n",
        "percent"
      ],
      "execution_count": null,
      "outputs": []
    },
    {
      "cell_type": "code",
      "metadata": {
        "id": "5dw9IHgdtA3M"
      },
      "source": [
        "dfc.drop(['NMHC(GT)'], axis= 1, inplace= True)\n",
        "num = dfc.isnull().sum()\n",
        "percent = num/dfc.shape[0]*100\n",
        "percent"
      ],
      "execution_count": null,
      "outputs": []
    },
    {
      "cell_type": "code",
      "metadata": {
        "id": "NGT-eE1StA2d"
      },
      "source": [
        "num"
      ],
      "execution_count": null,
      "outputs": []
    },
    {
      "cell_type": "code",
      "metadata": {
        "id": "93I2Cn9KtAvY"
      },
      "source": [
        "dfc[\"T\"] = dfc.groupby(\"Date\")[\"T\"].transform(lambda x: x.fillna(x.mean()))\n",
        "dfc[\"CO(GT)\"] = dfc.groupby(\"Date\")[\"CO(GT)\"].transform(lambda x: x.fillna(x.mean()))\n",
        "dfc[\"NOx(GT)\"] = dfc.groupby(\"Date\")[\"NOx(GT)\"].transform(lambda x: x.fillna(x.mean()))\n",
        "dfc[\"NO2(GT)\"] = dfc.groupby(\"Date\")[\"NO2(GT)\"].transform(lambda x: x.fillna(x.mean()))"
      ],
      "execution_count": null,
      "outputs": []
    },
    {
      "cell_type": "code",
      "metadata": {
        "id": "UvcBRZiMtAsX"
      },
      "source": [
        "num = dfc.isnull().sum()\n",
        "percent = num/dfc.shape[0]*100\n",
        "percent"
      ],
      "execution_count": null,
      "outputs": []
    },
    {
      "cell_type": "code",
      "metadata": {
        "id": "b9uu3MOWtApm"
      },
      "source": [
        "sns.heatmap(dfc.isnull(),yticklabels=False,cbar=False,cmap='viridis')"
      ],
      "execution_count": null,
      "outputs": []
    },
    {
      "cell_type": "code",
      "metadata": {
        "id": "3WAWImWPtAmn"
      },
      "source": [
        "dfc.fillna(method='ffill', inplace= True)"
      ],
      "execution_count": null,
      "outputs": []
    },
    {
      "cell_type": "code",
      "metadata": {
        "id": "ghSffqHAtAjy"
      },
      "source": [
        "num = dfc.isnull().sum()\n",
        "percent = num/dfc.shape[0]*100\n",
        "percent"
      ],
      "execution_count": null,
      "outputs": []
    },
    {
      "cell_type": "code",
      "metadata": {
        "id": "0KrKfAD7tAhI"
      },
      "source": [
        "dfc.info()"
      ],
      "execution_count": null,
      "outputs": []
    },
    {
      "cell_type": "code",
      "metadata": {
        "id": "r6DgidZItAeZ"
      },
      "source": [
        "dfc.describe()"
      ],
      "execution_count": null,
      "outputs": []
    },
    {
      "cell_type": "code",
      "metadata": {
        "id": "8-HJ-nHctAbe"
      },
      "source": [
        "dfc.plot(x='Date',subplots=True, figsize=(15, 10),legend=False)"
      ],
      "execution_count": null,
      "outputs": []
    },
    {
      "cell_type": "code",
      "metadata": {
        "id": "BFKJUdm6tAY1"
      },
      "source": [
        "plt.figure(); dfc.plot(x='Date',y='CO(GT)',figsize=(15, 10)); plt.legend(loc='best')"
      ],
      "execution_count": null,
      "outputs": []
    },
    {
      "cell_type": "code",
      "metadata": {
        "id": "An8__LW0tAV8"
      },
      "source": [
        "sns.distplot(dfc[\"CO(GT)\"])"
      ],
      "execution_count": null,
      "outputs": []
    },
    {
      "cell_type": "code",
      "metadata": {
        "id": "wO-GISKttATa"
      },
      "source": [
        "sns.distplot(dfc[\"NOx(GT)\"])"
      ],
      "execution_count": null,
      "outputs": []
    },
    {
      "cell_type": "code",
      "metadata": {
        "id": "dKFC-a6PtAQ1"
      },
      "source": [
        "sns.distplot(dfc[\"NO2(GT)\"])"
      ],
      "execution_count": null,
      "outputs": []
    },
    {
      "cell_type": "code",
      "metadata": {
        "id": "QJ6zYpymtAN-"
      },
      "source": [
        "sns.distplot(dfc[\"C6H6(GT)\"])"
      ],
      "execution_count": null,
      "outputs": []
    },
    {
      "cell_type": "code",
      "metadata": {
        "id": "UmmkKxyEtALR"
      },
      "source": [
        "sns.distplot(dfc[\"T\"])"
      ],
      "execution_count": null,
      "outputs": []
    },
    {
      "cell_type": "code",
      "metadata": {
        "id": "lPrxbDzCtAIZ"
      },
      "source": [
        "sns.distplot(dfc[\"RH\"])"
      ],
      "execution_count": null,
      "outputs": []
    },
    {
      "cell_type": "code",
      "metadata": {
        "id": "nmPlH75ftAFp"
      },
      "source": [
        "sns.distplot(dfc[\"AH\"])"
      ],
      "execution_count": null,
      "outputs": []
    },
    {
      "cell_type": "code",
      "metadata": {
        "id": "-AvX2ss2tAC7"
      },
      "source": [
        "sns.heatmap(dfc.corr(), annot=True)"
      ],
      "execution_count": null,
      "outputs": []
    },
    {
      "cell_type": "code",
      "metadata": {
        "id": "vNbE5qaUtAAU"
      },
      "source": [
        "dfc.head()"
      ],
      "execution_count": null,
      "outputs": []
    },
    {
      "cell_type": "code",
      "metadata": {
        "id": "Z9dUN5f9uGST"
      },
      "source": [
        "X = dfc[['CO(GT)','PT08.S1(CO)','C6H6(GT)','PT08.S2(NMHC)','NOx(GT)'\t,'PT08.S3(NOx)','NO2(GT)','PT08.S4(NO2)','PT08.S5(O3)','T','RH']]"
      ],
      "execution_count": null,
      "outputs": []
    },
    {
      "cell_type": "code",
      "metadata": {
        "id": "xmtlc9O6uG_j"
      },
      "source": [
        "Y = dfc[['AH']]"
      ],
      "execution_count": null,
      "outputs": []
    },
    {
      "cell_type": "code",
      "metadata": {
        "id": "SdpuC4hUuGZ0"
      },
      "source": [
        "X.shape"
      ],
      "execution_count": null,
      "outputs": []
    },
    {
      "cell_type": "code",
      "metadata": {
        "id": "pYSPvAuzuGXZ"
      },
      "source": [
        "Y.shape"
      ],
      "execution_count": null,
      "outputs": []
    },
    {
      "cell_type": "code",
      "metadata": {
        "id": "XIriUWOZuGHq"
      },
      "source": [
        "dfc.shape"
      ],
      "execution_count": null,
      "outputs": []
    },
    {
      "cell_type": "code",
      "metadata": {
        "id": "mNCeWRKTuSLX"
      },
      "source": [
        "n = len(dfc)\n",
        "x_train_df = X[0:int(n*0.8)]\n",
        "x_test_df = X[int(n*0.8):]\n",
        "y_train_df = Y[0:int(n*0.8)]\n",
        "y_test_df = Y[int(n*0.8):]"
      ],
      "execution_count": null,
      "outputs": []
    },
    {
      "cell_type": "code",
      "metadata": {
        "id": "5Tfg9btCuRyK"
      },
      "source": [
        "print(x_train_df.shape,y_train_df.shape,x_test_df.shape,y_test_df.shape)"
      ],
      "execution_count": null,
      "outputs": []
    },
    {
      "cell_type": "code",
      "metadata": {
        "id": "4z3jjB6RuRvm"
      },
      "source": [
        "from sklearn.preprocessing import MinMaxScaler\n",
        "scaler = MinMaxScaler()\n",
        "scaler.fit(x_train_df)\n",
        "x_train = scaler.fit_transform(x_train_df)\n",
        "scaler.fit(x_test_df)\n",
        "x_test = scaler.fit_transform(x_test_df)\n",
        "scaler.fit(y_train_df)\n",
        "y_train = scaler.fit_transform(y_train_df)\n",
        "scaler.fit(y_test_df)\n",
        "y_test = scaler.fit_transform(y_test_df)\n",
        "x_train = np.reshape(x_train, (x_train.shape[0],x_train.shape[1],1))\n",
        "x_test = np.reshape(x_test, (x_test.shape[0],x_test.shape[1],1))\n",
        "print (x_train.shape)\n",
        "print (x_test.shape)\n",
        "print (y_train.shape)\n",
        "print (y_test.shape)"
      ],
      "execution_count": null,
      "outputs": []
    },
    {
      "cell_type": "code",
      "metadata": {
        "id": "_evMkA2qugDe"
      },
      "source": [
        "from keras.models import Sequential\n",
        "from keras.layers import Dense\n",
        "from keras.layers import LSTM\n",
        "from keras.layers import Dropout\n",
        "from keras.layers import Flatten\n",
        "def RNN_MODEL():\n",
        "    # have to convert to 3D for feeding the data\n",
        "    regressor = Sequential()\n",
        "    regressor.add(LSTM(units = 50,return_sequences = True))\n",
        "    regressor.add(Dropout(0.2))\n",
        "    regressor.add(LSTM(units = 50,return_sequences = True))\n",
        "    regressor.add(Dropout(0.2))\n",
        "    regressor.add(LSTM(units = 50))\n",
        "    regressor.add(Dropout(0.2))\n",
        "    regressor.add(Dense(units = 1))\n",
        "    regressor.compile(optimizer = 'adam',loss = 'mean_squared_error',metrics=['accuracy'])\n",
        "    return regressor\n",
        "regressor = RNN_MODEL()\n",
        "regressor.fit(x_train,y_train,epochs = 100)"
      ],
      "execution_count": null,
      "outputs": []
    },
    {
      "cell_type": "code",
      "metadata": {
        "id": "HBbhIwMMuihg"
      },
      "source": [
        "regressor.evaluate(x_test,y_test)\n",
        "y_pred = regressor.predict(x_test)\n",
        "output = scaler.inverse_transform(y_pred)\n",
        "real_output = []\n",
        "for item in output:\n",
        "    real_output.append((item[0]))"
      ],
      "execution_count": null,
      "outputs": []
    },
    {
      "cell_type": "code",
      "metadata": {
        "id": "Pm-4bWF4ulxN"
      },
      "source": [
        "value = y_test_df\n",
        "value['predicted'] = np.array(real_output)\n",
        "import matplotlib.pyplot as plt\n",
        "plt.rcParams[\"figure.figsize\"] = (10,5)\n",
        "value.plot()"
      ],
      "execution_count": null,
      "outputs": []
    }
  ]
}