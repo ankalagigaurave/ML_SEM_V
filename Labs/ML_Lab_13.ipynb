{
  "nbformat": 4,
  "nbformat_minor": 0,
  "metadata": {
    "colab": {
      "name": "ML Lab 13",
      "provenance": [],
      "authorship_tag": "ABX9TyOgH01zTECUkgvXh5VRdEI/",
      "include_colab_link": true
    },
    "kernelspec": {
      "name": "python3",
      "display_name": "Python 3"
    }
  },
  "cells": [
    {
      "cell_type": "markdown",
      "metadata": {
        "id": "view-in-github",
        "colab_type": "text"
      },
      "source": [
        "<a href=\"https://colab.research.google.com/github/ankalagigaurave/ML_SEM_V/blob/master/Labs/ML_Lab_13.ipynb\" target=\"_parent\"><img src=\"https://colab.research.google.com/assets/colab-badge.svg\" alt=\"Open In Colab\"/></a>"
      ]
    },
    {
      "cell_type": "markdown",
      "metadata": {
        "id": "3ql-pdUiwewa"
      },
      "source": [
        "#Autoencoder"
      ]
    },
    {
      "cell_type": "code",
      "metadata": {
        "id": "jsz5jU_PuxXG"
      },
      "source": [
        "import os\n",
        "import pickle\n",
        "import pandas as pd\n",
        "import numpy as np\n",
        "import matplotlib.pyplot as plt\n",
        "\n",
        "import keras\n",
        "from keras.models import load_model\n",
        "from keras.datasets import cifar10\n",
        "from keras.layers import Input, Dense, Conv2D, MaxPooling2D, UpSampling2D, BatchNormalization, Activation\n",
        "from keras.models import Model\n",
        "from keras.callbacks import EarlyStopping, ModelCheckpoint\n",
        "from keras.optimizers import Adam\n",
        "\n",
        "!pip install livelossplot\n",
        "from livelossplot import PlotLossesKeras\n",
        "(x_train, y_train), (x_test, y_test) = cifar10.load_data()\n",
        "print(x_train.shape, x_test.shape)\n",
        "print(y_train.shape, y_test.shape)"
      ],
      "execution_count": null,
      "outputs": []
    },
    {
      "cell_type": "code",
      "metadata": {
        "id": "4MJUBzfHwlZJ"
      },
      "source": [
        "x_train = x_train.astype('float32')\n",
        "x_test = x_test.astype('float32')\n",
        "x_train /= 255.\n",
        "x_test /= 255.\n",
        "x_train_gray = x_train[:,:,:,0]\n",
        "x_test_gray = x_test[:,:,:,0]"
      ],
      "execution_count": null,
      "outputs": []
    },
    {
      "cell_type": "code",
      "metadata": {
        "id": "u0xYaFOLwtdR"
      },
      "source": [
        "print('Training Shape:', x_train_gray.shape)\n",
        "print('Number of train samples:', x_train_gray.shape[0])\n",
        "print('Number of test samples:', x_test_gray.shape[0])\n",
        "x_val = x_test_gray[:7000]\n",
        "x_test = x_test_gray[7000:]\n",
        "print(\"Validation Data Shape: {0} \\nTest Data Shape: {1}\".format(x_val.shape, x_test.shape))"
      ],
      "execution_count": null,
      "outputs": []
    },
    {
      "cell_type": "code",
      "metadata": {
        "id": "dkXM9h98wwb1"
      },
      "source": [
        "input_img = Input(shape=(32, 32))\n",
        "\n",
        "#Encoding\n",
        "x = Dense(64, activation = 'relu')(input_img)\n",
        "x = Dense(32, activation = 'relu')(x)\n",
        "x = Dense(16, activation = 'relu')(x)\n",
        "encoded = Dense(8, activation = 'relu')(x)\n",
        "\n",
        "# Decoding\n",
        "x = Dense(8, activation = 'relu')(encoded)\n",
        "x = Dense(16, activation = 'relu')(x)\n",
        "x = Dense(32, activation = 'relu')(x)\n",
        "x = Dense(64, activation = 'relu')(x)\n",
        "decoded = Dense(32, activation = 'sigmoid')(x)"
      ],
      "execution_count": null,
      "outputs": []
    },
    {
      "cell_type": "code",
      "metadata": {
        "id": "PW4tcRoawyJV"
      },
      "source": [
        "model = Model(input_img, decoded)\n",
        "model.compile(optimizer='adam', loss='binary_crossentropy')"
      ],
      "execution_count": null,
      "outputs": []
    },
    {
      "cell_type": "code",
      "metadata": {
        "id": "8dOVlirnw1N1"
      },
      "source": [
        "print('Training Shape:', x_train_gray.shape)\n",
        "print(\"Validation Shape: \",(x_val.shape, x_test.shape))\n",
        "print('Testing Shape:', x_test.shape)"
      ],
      "execution_count": null,
      "outputs": []
    },
    {
      "cell_type": "code",
      "metadata": {
        "id": "ToShuLLXw1rq"
      },
      "source": [
        "batch_size = 32\n",
        "num_classes = 10\n",
        "epochs = 10\n",
        "chkpt = 'AutoEncoder_Cifar10_Deep_weights.hdf5'\n",
        "mc = ModelCheckpoint(filepath = chkpt, monitor = 'val_loss', verbose = 1, save_best_only = True, mode = 'auto')\n",
        "\n",
        "history = model.fit(x_train_gray, x_train_gray, batch_size = batch_size, epochs = epochs, verbose = 1, validation_data = (x_val, x_val), \n",
        "                    callbacks = [mc])"
      ],
      "execution_count": null,
      "outputs": []
    },
    {
      "cell_type": "code",
      "metadata": {
        "id": "GmrojP-6w11I"
      },
      "source": [
        "score = model.evaluate(x_test, x_test, verbose=1)\n",
        "print(score)"
      ],
      "execution_count": null,
      "outputs": []
    },
    {
      "cell_type": "code",
      "metadata": {
        "id": "DS_R-Xjiw19z"
      },
      "source": [
        "c10test = model.predict(x_test)\n",
        "c10val = model.predict(x_val)\n",
        "print(\"Validation Dataset Score: {0}\\nTest Dataset Score: {1}\".format(np.average(c10val), np.average(c10test)))"
      ],
      "execution_count": null,
      "outputs": []
    },
    {
      "cell_type": "code",
      "metadata": {
        "id": "lMoluHFww2KI"
      },
      "source": [
        "def showImage(orig, dec, num=10):\n",
        "  n = num \n",
        "  plt.figure(figsize=(20, 4))\n",
        "  for i in range(n):\n",
        "      # display original\n",
        "      ax = plt.subplot(2, n, i + 1)\n",
        "      plt.imshow(orig[i].reshape(32,32))\n",
        "      plt.gray()\n",
        "      ax.get_xaxis().set_visible(False)\n",
        "      ax.get_yaxis().set_visible(False)\n",
        "\n",
        "      # display reconstruction\n",
        "      ax = plt.subplot(2, n, i + 1 + n)\n",
        "      plt.imshow(dec[i].reshape(32,32))\n",
        "      plt.gray()\n",
        "      ax.get_xaxis().set_visible(False)\n",
        "      ax.get_yaxis().set_visible(False)\n",
        "  plt.show()"
      ],
      "execution_count": null,
      "outputs": []
    },
    {
      "cell_type": "code",
      "metadata": {
        "id": "9eNjQDe2w2SY"
      },
      "source": [
        "showImage(x_test, c10test)"
      ],
      "execution_count": null,
      "outputs": []
    },
    {
      "cell_type": "markdown",
      "metadata": {
        "id": "OiDwDHEdxM0X"
      },
      "source": [
        "#Clustering"
      ]
    },
    {
      "cell_type": "code",
      "metadata": {
        "id": "TcWyjAX_w2X9"
      },
      "source": [
        "import pandas as pd \n",
        "data = pd.read_csv('/content/airqual.csv')"
      ],
      "execution_count": null,
      "outputs": []
    },
    {
      "cell_type": "code",
      "metadata": {
        "id": "U49s4Qihw2Ps"
      },
      "source": [
        "data.info()"
      ],
      "execution_count": null,
      "outputs": []
    },
    {
      "cell_type": "code",
      "metadata": {
        "id": "1jebMOHdw2HS"
      },
      "source": [
        "data.describe()"
      ],
      "execution_count": null,
      "outputs": []
    },
    {
      "cell_type": "code",
      "metadata": {
        "id": "II1TpYMQw165"
      },
      "source": [
        "data.shape"
      ],
      "execution_count": null,
      "outputs": []
    },
    {
      "cell_type": "code",
      "metadata": {
        "id": "ZUTjkOTcw1xR"
      },
      "source": [
        "import numpy as np\n",
        "data.replace(to_replace = -200,value = np.NaN , inplace = True )"
      ],
      "execution_count": null,
      "outputs": []
    },
    {
      "cell_type": "code",
      "metadata": {
        "id": "TfY2Ko-0w1oq"
      },
      "source": [
        "num = data.isnull().sum()\n",
        "percent = num/data.shape[0]*100\n",
        "percent"
      ],
      "execution_count": null,
      "outputs": []
    },
    {
      "cell_type": "code",
      "metadata": {
        "id": "_PikJjLWw04l"
      },
      "source": [
        "data.drop(['NMHC(GT)'], axis= 1, inplace= True)\n",
        "num = data.isnull().sum()\n",
        "percent = num/data.shape[0]*100\n",
        "percent"
      ],
      "execution_count": null,
      "outputs": []
    },
    {
      "cell_type": "code",
      "metadata": {
        "id": "YrzVOZcLw0gE"
      },
      "source": [
        "data[\"T\"] = data.groupby(\"Date\")[\"T\"].transform(lambda x: x.fillna(x.mean()))\n",
        "data[\"CO(GT)\"] = data.groupby(\"Date\")[\"CO(GT)\"].transform(lambda x: x.fillna(x.mean()))\n",
        "data[\"NOx(GT)\"] = data.groupby(\"Date\")[\"NOx(GT)\"].transform(lambda x: x.fillna(x.mean()))\n",
        "data[\"NO2(GT)\"] = data.groupby(\"Date\")[\"NO2(GT)\"].transform(lambda x: x.fillna(x.mean()))"
      ],
      "execution_count": null,
      "outputs": []
    },
    {
      "cell_type": "code",
      "metadata": {
        "id": "Odajjkyow0li"
      },
      "source": [
        "num = data.isnull().sum()\n",
        "percent = num/data.shape[0]*100\n",
        "percent"
      ],
      "execution_count": null,
      "outputs": []
    },
    {
      "cell_type": "code",
      "metadata": {
        "id": "jhQSaPw4w0dW"
      },
      "source": [
        "import seaborn as sns\n",
        "sns.heatmap(data.isnull(),yticklabels=False,cbar=False,cmap='viridis')"
      ],
      "execution_count": null,
      "outputs": []
    },
    {
      "cell_type": "code",
      "metadata": {
        "id": "Sx6dcy_WxvGI"
      },
      "source": [
        "data.fillna(method='ffill', inplace= True)"
      ],
      "execution_count": null,
      "outputs": []
    },
    {
      "cell_type": "code",
      "metadata": {
        "id": "s-oMYBDVxwfi"
      },
      "source": [
        "num = data.isnull().sum()\n",
        "percent = num/data.shape[0]*100\n",
        "percent"
      ],
      "execution_count": null,
      "outputs": []
    },
    {
      "cell_type": "code",
      "metadata": {
        "id": "zPdgkDDdxz6T"
      },
      "source": [
        "X1 = data.drop(['Time'], axis=1, inplace=False)\n",
        "X = X1.drop(['Date'], axis=1, inplace=False)\n",
        "X.head()"
      ],
      "execution_count": null,
      "outputs": []
    },
    {
      "cell_type": "code",
      "metadata": {
        "id": "4CnSFYmxx3AQ"
      },
      "source": [
        "from sklearn.cluster import Birch\n",
        "birch = Birch()\n",
        "birch.fit_predict(X)"
      ],
      "execution_count": null,
      "outputs": []
    },
    {
      "cell_type": "code",
      "metadata": {
        "id": "fkrgvnwdx55g"
      },
      "source": [
        "import numpy as np\n",
        "from sklearn.cluster import AgglomerativeClustering"
      ],
      "execution_count": null,
      "outputs": []
    },
    {
      "cell_type": "code",
      "metadata": {
        "id": "qB98J4tbx9yv"
      },
      "source": [
        "agg = AgglomerativeClustering(affinity='euclidean', compute_full_tree='auto',\n",
        "                        connectivity=None, distance_threshold=None,\n",
        "                        linkage='ward', memory=None, n_clusters=2)\n",
        "agg.fit(X)"
      ],
      "execution_count": null,
      "outputs": []
    },
    {
      "cell_type": "code",
      "metadata": {
        "id": "ks6izRM4yAf6"
      },
      "source": [
        "from sklearn.cluster import SpectralClustering"
      ],
      "execution_count": null,
      "outputs": []
    },
    {
      "cell_type": "code",
      "metadata": {
        "id": "wfwOzZsmyDZD"
      },
      "source": [
        "spclus = SpectralClustering()\n",
        "spclus.fit(X)"
      ],
      "execution_count": null,
      "outputs": []
    },
    {
      "cell_type": "code",
      "metadata": {
        "id": "NZ77k3P8yGNL"
      },
      "source": [
        ""
      ],
      "execution_count": null,
      "outputs": []
    }
  ]
}