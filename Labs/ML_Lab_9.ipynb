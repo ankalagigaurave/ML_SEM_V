{
  "nbformat": 4,
  "nbformat_minor": 0,
  "metadata": {
    "colab": {
      "name": "ML Lab 9",
      "provenance": [],
      "authorship_tag": "ABX9TyMsRBavQNz6jM69BjZjAB+e",
      "include_colab_link": true
    },
    "kernelspec": {
      "name": "python3",
      "display_name": "Python 3"
    }
  },
  "cells": [
    {
      "cell_type": "markdown",
      "metadata": {
        "id": "view-in-github",
        "colab_type": "text"
      },
      "source": [
        "<a href=\"https://colab.research.google.com/github/ankalagigaurave/ML_SEM_V/blob/master/Labs/ML_Lab_9.ipynb\" target=\"_parent\"><img src=\"https://colab.research.google.com/assets/colab-badge.svg\" alt=\"Open In Colab\"/></a>"
      ]
    },
    {
      "cell_type": "code",
      "metadata": {
        "id": "xJCi4XA34fwn"
      },
      "source": [
        "import pandas as pd \n",
        "import numpy as np\n",
        "import matplotlib.pyplot as plt\n",
        "import seaborn as sns\n",
        "\n",
        "from sklearn.model_selection import train_test_split, cross_val_score, GridSearchCV, RandomizedSearchCV\n",
        "from sklearn.preprocessing import StandardScaler\n",
        "from sklearn.linear_model import LinearRegression, ridge_regression\n",
        "from sklearn.ensemble import AdaBoostRegressor\n",
        "from sklearn.metrics import r2_score, mean_squared_error\n",
        "\n",
        "from keras import layers\n",
        "from keras import models\n",
        "from keras.callbacks import EarlyStopping\n",
        "from livelossplot import PlotLossesKeras\n",
        "\n",
        "import warnings\n",
        "warnings.filterwarnings('ignore')"
      ],
      "execution_count": null,
      "outputs": []
    },
    {
      "cell_type": "code",
      "metadata": {
        "id": "QUH4pq6V6cyr"
      },
      "source": [
        "data = pd.read_csv('../Exercise 9/Absenteeism_at_work_AAA/Absenteeism_at_work.csv', sep = ';')\n",
        "data.head()\n"
      ],
      "execution_count": null,
      "outputs": []
    },
    {
      "cell_type": "code",
      "metadata": {
        "id": "yDJuBWe-6cvW"
      },
      "source": [
        "data.describe()"
      ],
      "execution_count": null,
      "outputs": []
    },
    {
      "cell_type": "code",
      "metadata": {
        "id": "EQV_IFEr6cs7"
      },
      "source": [
        "data.isnull().sum()"
      ],
      "execution_count": null,
      "outputs": []
    },
    {
      "cell_type": "code",
      "metadata": {
        "id": "-oKdVTeJ6cqe"
      },
      "source": [
        "data.columns"
      ],
      "execution_count": null,
      "outputs": []
    },
    {
      "cell_type": "code",
      "metadata": {
        "id": "SJ61yGFH6cn-"
      },
      "source": [
        "data = data.drop('ID', axis = 1)\n",
        "cats = ['Reason for absence', 'Month of absence', 'Day of the week', 'Seasons', 'Disciplinary failure',\n",
        "        'Education', 'Son', 'Social drinker', 'Social smoker', 'Pet']\n",
        "\n",
        "for i in cats:\n",
        "    data[i] = data[i].astype('category')"
      ],
      "execution_count": null,
      "outputs": []
    },
    {
      "cell_type": "code",
      "metadata": {
        "id": "FpfjI0ml6clG"
      },
      "source": [
        "fig = plt.figure(figsize = (17, 10))\n",
        "sns.heatmap(data.corr(), annot = True, cmap = 'coolwarm')"
      ],
      "execution_count": null,
      "outputs": []
    },
    {
      "cell_type": "code",
      "metadata": {
        "id": "Ucv0q9Zm6cic"
      },
      "source": [
        "x_train, x_test, y_train, y_test = train_test_split(data.drop('Absenteeism time in hours', axis = 1), \n",
        "                                                    data['Absenteeism time in hours'], \n",
        "                                                   test_size = 0.3,\n",
        "                                                   shuffle = True)\n",
        "print(x_train.shape, x_test.shape)\n",
        "print(y_train.shape, y_test.shape)"
      ],
      "execution_count": null,
      "outputs": []
    },
    {
      "cell_type": "code",
      "metadata": {
        "id": "HirCK1sS6cfu"
      },
      "source": [
        "lr = LinearRegression()\n",
        "parameters = {'fit_intercept':[True, False], 'normalize':[True, False], 'copy_X':[True, False]}\n",
        "\n",
        "grid = GridSearchCV(lr, parameters, cv = 5)\n",
        "random = RandomizedSearchCV(lr, parameters, cv = 5)\n",
        "\n",
        "nn = models.Sequential()"
      ],
      "execution_count": null,
      "outputs": []
    },
    {
      "cell_type": "code",
      "metadata": {
        "id": "WjMFp8Mi6cc_"
      },
      "source": [
        "grid.fit(x_train, y_train)\n",
        "print('Best Score: ', grid.best_score_)"
      ],
      "execution_count": null,
      "outputs": []
    },
    {
      "cell_type": "code",
      "metadata": {
        "id": "dC5NelZl6caQ"
      },
      "source": [
        "random.fit(x_train, y_train)\n",
        "print('Best Score: ', random.best_score_)"
      ],
      "execution_count": null,
      "outputs": []
    },
    {
      "cell_type": "code",
      "metadata": {
        "id": "0e3eLWZt6cX1"
      },
      "source": [
        "nn.add(layers.Dense(512, activation = 'relu', input_shape = (19, )))\n",
        "nn.add(layers.Dense(256, activation = 'relu'))\n",
        "nn.add(layers.Dense(128))\n",
        "nn.add(layers.LeakyReLU(alpha = 0.001))\n",
        "nn.add(layers.Dense(1, activation = 'linear'))\n",
        "\n",
        "nn.compile(optimizer = 'adam', metrics = ['accuracy'], loss = 'mean_squared_error')"
      ],
      "execution_count": null,
      "outputs": []
    },
    {
      "cell_type": "code",
      "metadata": {
        "id": "1eg9dQEn6cVU"
      },
      "source": [
        "es = EarlyStopping(monitor = 'val_accuracy', patience = 25, verbose = 1, mode = 'min')\n",
        "callbacks = [es, PlotLossesKeras()]\n",
        "nn.fit(x_train, y_train, epochs = 100, batch_size = 20, validation_split = 0.3, callbacks = callbacks)"
      ],
      "execution_count": null,
      "outputs": []
    }
  ]
}